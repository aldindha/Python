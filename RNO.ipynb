{
 "cells": [
  {
   "cell_type": "markdown",
   "metadata": {},
   "source": [
    "# Import Excel"
   ]
  },
  {
   "cell_type": "code",
   "execution_count": 1,
   "metadata": {},
   "outputs": [],
   "source": [
    "import pandas as pd"
   ]
  },
  {
   "cell_type": "code",
   "execution_count": 4,
   "metadata": {},
   "outputs": [],
   "source": [
    "# Import Excel File\n",
    "df = pd.read_excel(r\"d:\\Temp\\Python\\RAW\\Spites.xlsx\", sheet_name='data')"
   ]
  },
  {
   "cell_type": "code",
   "execution_count": 7,
   "metadata": {},
   "outputs": [],
   "source": [
    "# Remove Duplicates\n",
    "df = df.drop_duplicates()"
   ]
  },
  {
   "cell_type": "code",
   "execution_count": 73,
   "metadata": {},
   "outputs": [],
   "source": [
    "# Setting max displayed\n",
    "pd.set_option('display.max.rows',70)\n",
    "pd.set_option('display.max.columns',0)"
   ]
  },
  {
   "cell_type": "code",
   "execution_count": null,
   "metadata": {},
   "outputs": [],
   "source": [
    "# Observe Columns\n",
    "#df.info()\n",
    "#df.dtypes\n",
    "#df.columns"
   ]
  },
  {
   "cell_type": "code",
   "execution_count": null,
   "metadata": {},
   "outputs": [],
   "source": [
    "# Check values on Date column\n",
    "df['Date'].drop_duplicates().sort_values()"
   ]
  },
  {
   "cell_type": "code",
   "execution_count": null,
   "metadata": {},
   "outputs": [],
   "source": [
    "# Check values on OS column\n",
    "df['OS'].drop_duplicates().sort_values()"
   ]
  },
  {
   "cell_type": "code",
   "execution_count": 29,
   "metadata": {},
   "outputs": [],
   "source": [
    "# Rename Columns\n",
    "df = df.rename(columns={\n",
    "    'client_latitude':'latitude',\n",
    "    'client_longitude':'longitude'\n",
    "})"
   ]
  },
  {
   "cell_type": "code",
   "execution_count": 39,
   "metadata": {},
   "outputs": [],
   "source": [
    "# Filter df by single column\n",
    "df[df['OS'] == 'IOS']\n",
    "\n",
    "# Filter df by multiple column\n",
    "df_filter = df[(df['OS'] == 'IOS') & (df['operator'] == 'A')]"
   ]
  },
  {
   "cell_type": "code",
   "execution_count": null,
   "metadata": {},
   "outputs": [],
   "source": [
    "# Delete rows by value\n",
    "df_filter2 = df_filter[df_filter['DESA'] != 'DELIMA']"
   ]
  },
  {
   "cell_type": "code",
   "execution_count": null,
   "metadata": {},
   "outputs": [],
   "source": [
    "# Delete columns\n",
    "df_filter2 = df_filter2.drop(columns=['post_connection_type','latency'])"
   ]
  },
  {
   "cell_type": "code",
   "execution_count": 66,
   "metadata": {},
   "outputs": [],
   "source": [
    "# Export to file or clipboard\n",
    "df_filter2.to_csv(r\"D:\\Temp\\Python\\Result.CSV\", index=False)\n",
    "df_filter2.to_excel(r\"D:\\Temp\\Python\\Result.xlsx\", sheet_name=\"filtered\",index=False)\n",
    "df_filter2.to_clipboard(index=False)"
   ]
  },
  {
   "cell_type": "markdown",
   "metadata": {},
   "source": [
    "# Import CSV"
   ]
  },
  {
   "cell_type": "code",
   "execution_count": null,
   "metadata": {},
   "outputs": [],
   "source": [
    "# Import CSV file\n",
    "df = pd.read_csv(r\"d:\\Temp\\Python\\RAW\\tutela_border_mm_202042_add.csv\")\n",
    "df"
   ]
  },
  {
   "cell_type": "code",
   "execution_count": null,
   "metadata": {},
   "outputs": [],
   "source": [
    "# Replace value\n",
    "df['period'] = df['period'].replace({'monthly':'month'})\n",
    "df"
   ]
  },
  {
   "cell_type": "code",
   "execution_count": 79,
   "metadata": {},
   "outputs": [],
   "source": [
    "# Add Calculated column Number\n",
    "df['new'] = df['device_share'] + df['device_share_node']"
   ]
  },
  {
   "cell_type": "code",
   "execution_count": 81,
   "metadata": {},
   "outputs": [],
   "source": [
    "# Add concatenate column text\n",
    "df['Region_Location'] = df['region'] + \"_\" + df['location']"
   ]
  },
  {
   "cell_type": "code",
   "execution_count": 85,
   "metadata": {},
   "outputs": [],
   "source": [
    "# Move Columns\n",
    "df.insert(13,'new',df.pop('new'))\n",
    "df.insert(7,'Region_Location',df.pop('Region_Location'))"
   ]
  },
  {
   "cell_type": "code",
   "execution_count": 91,
   "metadata": {},
   "outputs": [],
   "source": [
    "# Import CSV\n",
    "df1 = pd.read_csv(r\"d:\\Temp\\Python\\RAW\\tutela_border_mm_202042_add.csv\")\n",
    "df2 = pd.read_csv(r\"d:\\Temp\\Python\\RAW\\tutela_border_mm_202043_add.csv\")"
   ]
  },
  {
   "cell_type": "code",
   "execution_count": null,
   "metadata": {},
   "outputs": [],
   "source": [
    "# Check whether both df have same columns\n",
    "if df1.columns.to_list() == df2.columns.to_list():\n",
    "    print('same')\n",
    "else:\n",
    "    print('not same')"
   ]
  },
  {
   "cell_type": "code",
   "execution_count": 96,
   "metadata": {},
   "outputs": [],
   "source": [
    "# Append CSV files into one dataframe\n",
    "df_append = pd.concat([df1, df2], ignore_index=True)"
   ]
  },
  {
   "cell_type": "code",
   "execution_count": 99,
   "metadata": {},
   "outputs": [],
   "source": [
    "# Choose columns\n",
    "df_append = df_append.filter(items=['region','location','device_share_node', 'enodeb_share'])"
   ]
  },
  {
   "cell_type": "code",
   "execution_count": 101,
   "metadata": {},
   "outputs": [],
   "source": [
    "import os\n",
    "\n",
    "directory = r\"D:\\Temp\\Python\\RAW\"\n",
    "\n",
    "dfs = []\n",
    "\n",
    "# Traverse directory and subdirectories\n",
    "for root, dirs, files in os.walk(directory):\n",
    "    for file in files:\n",
    "        if file.endswith(\".csv\"):\n",
    "            # Get the full file path\n",
    "            file_path = os.path.join(root, file)\n",
    "            \n",
    "            # Read CSV file into DataFrame\n",
    "            df = pd.read_csv(file_path)\n",
    "            \n",
    "            # Append the DataFrame to the list\n",
    "            dfs.append(df)\n",
    "\n",
    "# Concatenate all DataFrames in the list\n",
    "result = pd.concat(dfs, ignore_index=True)"
   ]
  }
 ],
 "metadata": {
  "kernelspec": {
   "display_name": "Python 3",
   "language": "python",
   "name": "python3"
  },
  "language_info": {
   "codemirror_mode": {
    "name": "ipython",
    "version": 3
   },
   "file_extension": ".py",
   "mimetype": "text/x-python",
   "name": "python",
   "nbconvert_exporter": "python",
   "pygments_lexer": "ipython3",
   "version": "3.11.9"
  }
 },
 "nbformat": 4,
 "nbformat_minor": 2
}
